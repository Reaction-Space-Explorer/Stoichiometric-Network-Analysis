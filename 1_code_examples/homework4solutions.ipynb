{
 "cells": [
  {
   "cell_type": "markdown",
   "metadata": {},
   "source": [
    "# Homework 4\n",
    "\n",
    "Due by Feb 6th, 3:30 pm\n",
    "\n",
    "## Instructions\n",
    "\n",
    "* This submission has **two** components: \n",
    "    * (1) **Handwritten** solutions to Problems 1 and 2(iii) (turn in by beginning of class to TAs)\n",
    "    * (2) iPython notebook with coded solution to part of Problems 2, and 3.\n",
    "\n",
    "Make sure your solutions are clear and legible!\n",
    "\n",
    "### Other important information\n",
    "\n",
    "* __Make sure to title the homework assignment as LASTNAME_FIRSTNAME_Homework4 before submitting.__\n",
    "\n",
    "* All plots generated must have an xlabel, a ylabel, and a caption that interprets the plot. Time profiles also require a legend. \n",
    "\n",
    "* To create a caption, add a new cell below a plot by using the option \"Insert > Insert Cell below\", then change the cell into a markdown cell by using \"Cell > Cell Type > Markdown\".\n",
    "\n",
    "* Axis limits must be sensible, meaning that you may need to set the axis limits via kwargs \"xlim\" and \"ylim\" in order to make your plot more interpretable. \n"
   ]
  },
  {
   "cell_type": "markdown",
   "metadata": {},
   "source": [
    "## Conceptual Questions\n",
    "Please submit your answers to Problems 1, and 2(iii) at the beginning of class on 02/06"
   ]
  },
  {
   "cell_type": "markdown",
   "metadata": {},
   "source": [
    "### Problem 1. (40 Points)\n",
    "#### For the system below do the following:\n",
    "\n",
    "*Note: This problem is meant to be done without the use of Python or MASSpy. Please write out your solutions and submit them in class at the beginning of the class it is due. Make sure to show ALL your work in order to receive full credit.*\n",
    " \n",
    "Look at figure 9.23 in **Masspy Documentation**: https://masspy.readthedocs.io/en/latest/notebooks/SB2_textbook/SB2-Chapter-9.html#Updating-the-model\n",
    "\n",
    "\n",
    "\n",
    "Note that $ x_6 + x_5\\leftrightharpoons x_7$ where $x_7$ is an inhibited form of the enzyme, furthermore\n",
    "$\\stackrel{v_{10}}\\rightarrow x_6\\stackrel{v_{11}}\\rightarrow$\n",
    ".The following variables are known:$k_1,k_2,k_3,k_4,k_5,k_{6+},k_{6-}, v_{10},v_{11} $ where: $$\\begin{align}  \\\\\n",
    "v_{10} &= \\frac{k_{10}}{1+K_{10}x_5} \\\\\n",
    "\\end{align}$$ \n",
    "\n",
    "\n",
    "$$v_{11} = k_{11}x_6$$\n",
    "\n",
    "> **(i)** Give the differential equations that describe this feedback loop.\n",
    "\n",
    "\n",
    "> **(ii)** Give the stoichiometric matrix for this system\n",
    "\n",
    "\n",
    "> **(iii)** Compute the rank of S\n",
    "\n",
    "> **(iv)** Find 3 vectors that span the right null space\n"
   ]
  },
  {
   "cell_type": "markdown",
   "metadata": {},
   "source": [
    ">**(i)** 7 points\n",
    "\n",
    "\n",
    "$$\\begin{align}\n",
    "\\frac{dx_1}{dt} &= b_1 - v_0 - k_{1}x_1x_6 \\\\ \n",
    "\\frac{dx_2}{dt} &= k_1 x_1x_6 - k_{2}x_2 \\\\ \n",
    "\\frac{dx_3}{dt} &= k_{2}x_2 - k_{3}x_3 \\\\ \n",
    "\\frac{dx_4}{dt} &= k_{3}x_3 - k_{4}x_4 \\\\ \n",
    "\\frac{dx_5}{dt} &= k_{4}x_4 - k_{5}x_5 + k_{-6}x_7 - k_{6+}x_6 x_5 \\\\ \n",
    "\\frac{dx_6}{dt} &= - k_{1}x_1x_6 - k_{6+}x_6x_5 + k_{-6}x_7 + k_{2}x_2 + \\frac{k_{10}}{1+K_{10}x_5}- k_{11}x_6 \\\\ \n",
    "\\frac{dx_7}{dt} &= k_6x_5x_6 - k_{6}x_7 \\end{align}$$\n",
    "\n",
    "\n",
    "(i)\n",
    "<font color='red'>Rubric: </font> \n",
    "- +1 point for each correct differential equation\n",
    "\n",
    "> **(ii)** 11 points\n",
    "\n",
    "(ii)\n",
    "<font color='red'>Rubric: </font> \n",
    "\n",
    "- +1 for each correct column of the matrix (however, if they express $v_6$ as just one reaction, in-line with the textbook notation, give them the point as they are correct and can still fully solve the problem. The difference is between the textbook and the problem's conventions for the S matrix.)\n",
    "\n",
    "$$\\left(\n",
    "\\begin{array}{ccccccccccc}\n",
    " 1 & -1 & -1 & 0 & 0 & 0 & 0 & 0 & 0 & 0 & 0 \\\\\n",
    " 0 & 0 & 1 & -1 & 0 & 0 & 0 & 0 & 0 & 0 & 0 \\\\\n",
    " 0 & 0 & 0 & 1 & -1 & 0 & 0 & 0 & 0 & 0 & 0 \\\\\n",
    " 0 & 0 & 0 & 0 & 1 & -1 & 0 & 0 & 0 & 0 & 0 \\\\\n",
    " 0 & 0 & 0 & 0 & 0 & 1 & -1 & -1 & 1 & 0 & 0 \\\\\n",
    " 0 & 0 & -1 & 1 & 0 & 0 & 0 & -1 & 1 & 1 & -1 \\\\\n",
    " 0 & 0 & 0 & 0 & 0 & 0 & 0 & 1 & -1 & 0 & 0 \\\\\n",
    "\\end{array}\n",
    "\\right)$$\n",
    ">**(iii)** 7 points\n",
    "\n",
    "(iii) \n",
    "<font color='red'>Rubric: </font> \n",
    "- +3.5 for reasoning either from the inspection, or by mathematically solving for the rank. \n",
    "- +3.5 for the correct answer. Does not need to show every operation, but needs to detail the steps they employed to get their results.\n",
    "\n",
    "See my answer for the below problem for the Row Reduced form of the matrix, whose number of non-zero rows indicates the rank of the matrix. Also, there are seven linearly independent columns, and four linearly dependent columns. One can determine this by inspection and a little matrix algebra. If you do column reduction, then you can figure out the number of linearly independent columns and thus the rank. There are 7 linearly independent columns.\n",
    "\n",
    "\n",
    "\n",
    ">**(iv)** \n",
    "\n",
    "(iv) \n",
    "<font color='red'>Rubric: </font> \n",
    "+ +2.5 for each correct vector spanning the nullspace of the matrix. \n",
    "+ +2.5 for correct work or correct reasoning from the structure of the network.\n",
    "\n",
    "Steps:\n",
    "Get the matrix to row eschelon form:\n",
    "\n",
    "$$\\left(\n",
    "\\begin{array}{ccccccccccc}\n",
    " 1 & -1 & 0 & 0 & 0 & 0 & -1 & 0 & 0 & 0 & 0 \\\\\n",
    " 0 & 0 & 1 & 0 & 0 & 0 & -1 & 0 & 0 & 0 & 0 \\\\\n",
    " 0 & 0 & 0 & 1 & 0 & 0 & -1 & 0 & 0 & 0 & 0 \\\\\n",
    " 0 & 0 & 0 & 0 & 1 & 0 & -1 & 0 & 0 & 0 & 0 \\\\\n",
    " 0 & 0 & 0 & 0 & 0 & 1 & -1 & 0 & 0 & 0 & 0 \\\\\n",
    " 0 & 0 & 0 & 0 & 0 & 0 & 0 & 1 & -1 & 0 & 0 \\\\\n",
    " 0 & 0 & 0 & 0 & 0 & 0 & 0 & 0 & 0 & 1 & 1 \\\\\n",
    "\\end{array}\n",
    "\\right)$$\n",
    "\n",
    "Then, Solve for each flux of the form of (S)(V) = 0\n",
    "\n",
    "After that you should get the final form of your nullspace\n",
    "\n",
    "\n",
    "$$\\left(\n",
    "\\begin{array}{ccccccccccc}\n",
    " 0 & 0 & 0 & 0 & 0 & 0 & 0 & 0 & 0 & 1 & 1 \\\\\n",
    " 0 & 0 & 0 & 0 & 0 & 0 & 0 & 1 & 1 & 0 & 0 \\\\\n",
    " 1 & 0 & 1 & 1 & 1 & 1 & 1 & 0 & 0 & 0 & 0 \\\\\n",
    " 1 & 1 & 0 & 0 & 0 & 0 & 0 & 0 & 0 & 0 & 0 \\\\\n",
    "\\end{array}\n",
    "\\right)$$\n",
    "\n",
    "Alternative answer:\n",
    "\n",
    "There are four seperate pathways that can be taken through the matrix: either in through b1 exiting at v5, b1 exiting through v0, the futile cycle of v6, and finally entering through synthesis of x6, and exiting through degradation of x6. If they explain it this way and give relevant pathway vectors for each, they should receive full credit."
   ]
  },
  {
   "cell_type": "markdown",
   "metadata": {},
   "source": [
    "## Programming Questions"
   ]
  },
  {
   "cell_type": "markdown",
   "metadata": {},
   "source": [
    "### Problem 2. (35 Points)\n",
    "\n",
    "Charging and recovering of high-energy bonds.\n",
    "\n",
    "Set up the simulation for the system shown in textbook Figure 8.19 in the Masspy Textbook, increasing the forward rate constant of $v_{\\text{load}}$ by $\\text{50%} $: https://masspy.readthedocs.io/en/latest/notebooks/SB2_textbook/SB2-Chapter-8.html#Dynamic-simulation\n",
    "\n",
    "\n",
    "\n",
    "> **(i)** Plot the occupancy $(2\\text{ATP} + \\text{ADP})$ versus the capacity $2(\\text{ATP} + \\text{ADP} + \\text{AMP})$ in a phase portrait format. Use this plot to interpret what happens to each quantity on the two principal time scales. Interpret the dynamics the stoichiometric structure produces given the rate constants in this case. (1 plot expected)\n",
    "\n",
    "> **(ii)** Simulate the pool \\\\(x_1 + 2x_2 + 2\\text{ATP} + \\text{ADP}\\\\) (1 plot expected)\n",
    "\n",
    "> **(iii)** Obtain the differential equation that describes this pool. What does this pool represent? Study its dynamics in the above simulation.    **Show your work on how you obtained your differential equation, and attach it to your Conceptual Questions**\n",
    "\n",
    ">*Hints:*\n",
    "\n",
    ">*1. \\\\(\\text{ATP}_{0} = 1.6 mM\\\\), \\\\(\\text{ADP}_{0} = 0.4 mM\\\\), \\\\(\\text{AMP}_{0} = 0.1 mM\\\\), \\\\(\\text{P}_{i} = 2.5 mM\\\\), \\\\(\\text{x}_{1, 0} = \\text{x}_{2, 0} = 1 mM\\\\).*\n",
    "\n",
    "\n",
    ">*2*. *Do not include \\\\(\\text{Y}\\\\) and  \\\\(\\text{YP}\\\\). Model \\\\(v_{\\mathrm{load}}\\\\) as \\\\(\\text{ATP} \\rightarrow \\text{ADP} + \\text{P}_i\\\\) with the correct rate constants.*\n",
    "\n",
    "\n",
    ">*3*. Use the same parameter values as the simulation in Fig. 8.22 (in the Masspy Documentation):\n",
    "\n",
    "\\\\(b_1 = 0.03 mM/min\\\\), \\\\(b_2 = 5 mM/min\\\\), \\\\(k_{\\mathrm{drain}} = b_1/0.1\\\\), \\\\(k_{\\mathrm{load}} = 5/1.6\\\\), \\\\(k_1 = 5/1.6\\\\), \\\\(k_2 = 5/0.4\\\\), \\\\(k_{distr} = 1000\\\\), \\\\(K_{distr} = 1\\\\), \\\\(k_{DM_{X3}} = 5\\\\)\n",
    "\n",
    "\n"
   ]
  },
  {
   "cell_type": "code",
   "execution_count": 1,
   "metadata": {},
   "outputs": [],
   "source": [
    "from mass import MassModel, MassMetabolite, MassReaction, Simulation\n",
    "from mass.visualization import plot_phase_portrait, plot_tiled_phase_portraits, plot_time_profile\n",
    "\n",
    "import pandas as pd\n",
    "import matplotlib.pyplot as plt"
   ]
  },
  {
   "cell_type": "code",
   "execution_count": 2,
   "metadata": {},
   "outputs": [],
   "source": [
    "from mass import (\n",
    "    MassModel, MassMetabolite, MassReaction)\n",
    "from mass.visualization import  plot_phase_portrait, plot_tiled_phase_portraits\n",
    "import numpy as np\n",
    "import pandas as pd\n",
    "import sympy as sym\n",
    "import matplotlib.pyplot as plt\n",
    "import matplotlib as mpl\n",
    "XL_FONT = {\"size\": \"x-large\"}"
   ]
  },
  {
   "cell_type": "markdown",
   "metadata": {},
   "source": [
    "> **(i)**"
   ]
  },
  {
   "cell_type": "code",
   "execution_count": 3,
   "metadata": {},
   "outputs": [],
   "source": [
    "\n",
    "# Create model\n",
    "model = MassModel(\"Extended_Phosphate_pools\")\n",
    "# Define metabolites\n",
    "atp = MassMetabolite(\"atp\")\n",
    "adp = MassMetabolite(\"adp\")\n",
    "amp = MassMetabolite(\"amp\")\n",
    "pi = MassMetabolite(\"pi\")\n",
    "x1 = MassMetabolite(\"x1\")\n",
    "x2 = MassMetabolite(\"x2\")\n",
    "x3 = MassMetabolite(\"x3\")\n",
    "\n",
    "# Define reactions\n",
    "b1 = MassReaction(\"b1\", reversible=False)\n",
    "b1.add_metabolites({amp:1})\n",
    "\n",
    "distr = MassReaction(\"distr\")\n",
    "distr.add_metabolites({adp: -2, amp: 1, atp:1})\n",
    "\n",
    "load = MassReaction(\"load\", reversible=False)\n",
    "load.add_metabolites({atp: -1, adp: 1, pi: 1})\n",
    "\n",
    "drain = MassReaction(\"drain\", reversible=False)\n",
    "drain.add_metabolites({amp:-1})\n",
    "\n",
    "b2 = MassReaction(\"b2\", reversible=False)\n",
    "b2.add_metabolites({x1: 1})\n",
    "\n",
    "v1 = MassReaction(\"v1\", reversible=False)\n",
    "v1.add_metabolites({atp: -1, x1: -1, adp: 1, x2: 1})\n",
    "\n",
    "v2 = MassReaction(\"v2\", reversible=False)\n",
    "v2.add_metabolites({adp: -2, pi: -1, x2: -1, atp: 2, x3: 1})\n",
    "\n",
    "\n",
    "\n",
    "DM_x3 = MassReaction(\"DM_x3\", reversible=False)\n",
    "DM_x3.add_metabolites({x3: -1})\n",
    "\n",
    "# Add reactions to model\n",
    "model.add_reactions([b1, v1, v2,b2,DM_x3,load,drain,distr])\n",
    "\n",
    "# Define initial conditions and parameters\n",
    "atp.ic = 1.6\n",
    "adp.ic = 0.4\n",
    "amp.ic = 0.1\n",
    "pi.ic = 2.5\n",
    "x1.ic = 1\n",
    "x2.ic = 1\n",
    "x3.ic = 1\n",
    "\n",
    "\n",
    "\n",
    "b1.kf = 0.03\n",
    "distr.kf = 1000\n",
    "distr.Keq = 1\n",
    "load.kf = 5/1.6\n",
    "drain.kf = 0.3\n",
    "b2.kf = 5\n",
    "v1.kf = 5/1.6\n",
    "v2.kf = 5/0.4\n",
    "\n",
    "\n",
    "DM_x3.kf = 5\n",
    "\n",
    "# Set custom rate for source reactions \n",
    "model.add_custom_rate(b1, custom_rate=b1.kf_str)\n",
    "model.add_custom_rate(b2, custom_rate=b2.kf_str)\n",
    "\n",
    "# Add units for future reference. \n",
    "model.units = {'N': 'Millimoles', 'V': 'Liters', 'Time': 'Minute'}"
   ]
  },
  {
   "cell_type": "code",
   "execution_count": 4,
   "metadata": {},
   "outputs": [
    {
     "name": "stdout",
     "output_type": "stream",
     "text": [
      "╒══════════════════════════════════════════╕\n",
      "│ MODEL ID: Extended_Phosphate_pools       │\n",
      "│ SIMULATABLE: True                        │\n",
      "│ PARAMETERS NUMERICALY CONSISTENT: True   │\n",
      "╞══════════════════════════════════════════╡\n",
      "╘══════════════════════════════════════════╛\n"
     ]
    }
   ],
   "source": [
    "from mass import qcqa_model\n",
    "qcqa_model(model, parameters = True, concentrations = True)"
   ]
  },
  {
   "cell_type": "code",
   "execution_count": 5,
   "metadata": {},
   "outputs": [
    {
     "name": "stderr",
     "output_type": "stream",
     "text": [
      "\u001b[93mWARNING:\u001b[0m \u001b[93mNo compartments found in model. Therefore creating compartment 'compartment' for entire model.\u001b[0m\n"
     ]
    }
   ],
   "source": [
    "(t0, tf) = (0, 1e2)\n",
    "sim = Simulation(model)"
   ]
  },
  {
   "cell_type": "code",
   "execution_count": 6,
   "metadata": {
    "scrolled": false
   },
   "outputs": [
    {
     "data": {
      "image/png": "[encoded data removed]",
      "text/plain": [
       "<Figure size 360x360 with 1 Axes>"
      ]
     },
     "metadata": {
      "needs_background": "light"
     },
     "output_type": "display_data"
    }
   ],
   "source": [
    "from mass.visualization.phase_portraits import (\n",
    "    plot_tiled_phase_portraits, plot_phase_portrait,\n",
    "    get_phase_portrait_default_kwargs)\n",
    "\n",
    "conc_sol, flux_sol = sim.simulate(\n",
    "    model, time=(t0, tf),perturbations={\"kf_load\": \"1.5*kf_load\"})\n",
    "\n",
    "capacity = conc_sol.make_aggregate_solution(\n",
    "    aggregate_id=\"capacity\",\n",
    "    equation=\"(atp + adp + amp)\",\n",
    "    variables=[\"atp\", \"adp\", \"amp\"],\n",
    "    update=True)\n",
    "\n",
    "occupancy = conc_sol.make_aggregate_solution(\n",
    "    aggregate_id=\"occupancy\",\n",
    "    equation=\"(atp + 0.5 * adp)\",\n",
    "    variables=[\"atp\", \"adp\"])\n",
    "conc_sol.update(occupancy)\n",
    "\n",
    "ec = conc_sol.make_aggregate_solution(\n",
    "    aggregate_id=\"energy_charge\",\n",
    "    equation=\"occupancy / capacity\",\n",
    "    variables=[\"occupancy\", \"capacity\"],\n",
    "    update=True)\n",
    "time_points = [0, 1e-1, 1e0, 1e1, 1e2]\n",
    "time_point_colors = [\n",
    "    mpl.colors.to_hex(c)\n",
    "    for c in mpl.cm.Blues(np.linspace(0.1, 1, len(time_points)))]\n",
    "\n",
    "\n",
    "fig, ax = plt.subplots(nrows=1, ncols=1, figsize=(5, 5))\n",
    "plot_phase_portrait(\n",
    "    conc_sol, x=\"occupancy\", y=\"capacity\", ax=ax, legend=\"upper right\",\n",
    "    xlim=(1, 2.2), ylim=(1.4, 2.4),xlabel=\"Occupancy\",ylabel=\"Capacity\",\n",
    "    title=\"Occupancy vs. Capacity\",\n",
    "    color=\"Green\", linestyle=\"-\",\n",
    "    annotate_time_points=time_points,\n",
    "    annotate_time_points_color=time_point_colors,\n",
    "    annotate_time_points_legend=\"right outside\");"
   ]
  },
  {
   "cell_type": "markdown",
   "metadata": {},
   "source": [
    "Initially in response to the perturbation, the occupancy pool decreases signifantly, as ATP is converted to ADP rapidly, due to the faster time scale of $k_{distr}$ while capacity slightly decreases due to amp leaving the system via the drain reaction. As time goes on, capacity and occupancy eventually start following a linear path towards their steady state at t = 100\n",
    "\n",
    "<font color='red'>Rubric: </font>  \n",
    "- +5 for graph \n",
    "- +5 for analysis of what happens to their occupancy and capacity pools."
   ]
  },
  {
   "cell_type": "markdown",
   "metadata": {},
   "source": [
    ">**(ii)**"
   ]
  },
  {
   "cell_type": "code",
   "execution_count": 7,
   "metadata": {
    "scrolled": true
   },
   "outputs": [
    {
     "data": {
      "text/plain": [
       "<matplotlib.axes._subplots.AxesSubplot at 0x7f1159c20410>"
      ]
     },
     "execution_count": 7,
     "metadata": {},
     "output_type": "execute_result"
    },
    {
     "data": {
      "image/png": "[encoded data removed]",
      "text/plain": [
       "<Figure size 864x288 with 2 Axes>"
      ]
     },
     "metadata": {
      "needs_background": "light"
     },
     "output_type": "display_data"
    }
   ],
   "source": [
    "fig, axes = plt.subplots(nrows=1, ncols=2, figsize=(12, 4))\n",
    "(ax1, ax2) = axes.flatten()\n",
    "\n",
    "pool_id = \"Recovery of HE-Phosphate bonds\"\n",
    "pool = \"x1 + 2*x2 + 2*atp + adp\"\n",
    "recovery = conc_sol.make_aggregate_solution(\n",
    "    aggregate_id=\"Recovery of HE-Phosphate Bonds\",\n",
    "    equation=pool,\n",
    "    variables=[\"x1\", \"x2\",\"atp\",\"adp\"],\n",
    "    update=True)\n",
    "conc_sol.update(recovery)\n",
    "\n",
    "plot_time_profile(conc_sol,observable=\"Recovery of HE-Phosphate Bonds\", ax=ax1, plot_function=\"semilogx\",\n",
    "                xlabel=\"Time [min]\", ylabel=pool,\n",
    "                title=(\"Recovery of HE-Phosphate Bonds\"))\n",
    "plot_time_profile(conc_sol,observable=\"Recovery of HE-Phosphate Bonds\", ax=ax2, plot_function=\"plot\",\n",
    "                xlabel=\"Time [min]\", ylabel=pool,\n",
    "                title=(\"Recovery of HE-Phosphate Bonds\"))"
   ]
  },
  {
   "cell_type": "markdown",
   "metadata": {},
   "source": [
    "Since in this perturbation we are increasing the forward rate of the loading reaction, an increase that corresponds to a decrease in ATP concentration(ATP --> ADP + Pi), we initially see a decrease in the pool at the time scale where the reaction takes place. This causes a drop that is then slowly compensated for over slower time scales, with the pool reaching a lower level than its preperturbation state.\n",
    "\n",
    "<font color='red'>Rubric: </font> \n",
    "- +5 a correctly labled graph (including axis title and legend, showing most of the graph.)\n",
    "- +5 some analysis of what is occuring in the graph, and what their perturbation causes over time.\n",
    "\n",
    "\n"
   ]
  },
  {
   "cell_type": "markdown",
   "metadata": {},
   "source": [
    "(iii)\n",
    "\n",
    "To obtain the expression, start with the Mass Balances:\n",
    "\n",
    "\n",
    "$\\begin{align}\n",
    "\\frac{dx_1}{dt} &= b_2 - v_1 \\\\ \n",
    "\\frac{dx_2}{dt} &= v_1 - v_2 \\\\ \n",
    "\\frac{d\\text{ATP}}{dt} &= -(v_1 + v_{\\mathrm{load}}) + 2v_2 + v_{\\mathrm{distr}} \\\\ \n",
    "\\frac{d\\text{ADP}}{dt} &= (v_1 + v_{\\mathrm{load}}) - 2v_2 - 2v_{\\mathrm{distr}} \\\\  \\end{align}$\n",
    "\n",
    "$\\begin{align} \\frac{dp}{dt} &= \\frac{dx_1}{dt} + 2\\frac{dx_2}{dt} + 2\\frac{d\\text{ATP}}{dt} + \\frac{d\\text{ADP}}{dt} \\\\ \n",
    "&= (b_2 - v_1) + 2(v_1 - v_2) + 2(-(v_1 + v_{\\mathrm{load}}) + 2v_2 + v_{\\mathrm{distr}}) + (v_1 + v_{\\mathrm{load}}) - 2v_2 - 2v_{\\mathrm{distr}}) \\\\ \n",
    "&= b_2 - v_1 + 2v_1 - 2v_2 - 2v_1 - 2v_{\\mathrm{load}} + 4v_2 + 2v_{\\mathrm{distr}} + v_1 + v_{\\mathrm{load}} - 2v_2 - 2v_{\\mathrm{distr}} \\\\ \\text{Rearrange:} \\\\ \n",
    "&= b_2 - v_1 + v_1 - 2v_1 + 2v_1 - 2v_2 - 2v_2 + 4v_2 + 2v_{\\mathrm{distr}} - 2v_{\\mathrm{distr}} + v_{\\mathrm{load}} - 2v_{\\mathrm{load}}\\\\ \n",
    "&\\\\ \\text{Cancel out terms to get:} \\\\ \n",
    "\\frac{dp}{dt} &= b_2 -v_{\\mathrm{load}} \\\\ \n",
    "\\end{align}$\n",
    "\n",
    "This differential equation represents the recovery of high energy bonds (phosphates) relative to the substrate input flux $(b_2)$. \n",
    "\n",
    "<font color='red'>Rubric: </font> \n",
    "- +5 for the correct derivation \n",
    "- +5 for the correct differential equation \n",
    "- +5 for the correct interpretation of its meaning"
   ]
  },
  {
   "cell_type": "markdown",
   "metadata": {},
   "source": [
    "### Problem 3. (25 Points)\n",
    "\n",
    "The synthesis of $\\text{AMP}$ typically happens through the use of $\\text{ATP}$ to phosphorylate adenosine ($\\text{A}$):\n",
    "\n",
    "\n",
    "\n",
    "\n",
    "\n",
    "$$\\text{A} + \\text{ATP} \\rightarrow \\text{AMP} + \\text{ADP}$$\n",
    "\n",
    "\n",
    "and thus $v_{\\text{AMP}}$ is not a constant but dependent on $\\text{ATP}$. $\\text{A}$ is typically imported from plasma:\n",
    "    $$v_{\\text{form AMP}} = k_{\\text{form AMP}} (\\text{ATP})(\\text{A}),\\space \\text{&}\\space v_{\\text{form A}} = b_1$$\n",
    "   \n",
    "   $$v_{\\text{drain}} = k_{\\text{drain}}\\text{AMP}$$\n",
    "   \n",
    "   where $b_1$ is the rate of Adenosine entering the cytoplasm. The numerical values used are $b_1$ = $0.03 mM/min$ and $k_{\\text{drain}}$ = $(0.03mM/min)/(0.1mM) = 0.3mM/min$\n",
    "   \n",
    "   \n",
    "   The $\\text{ATP}$ concentration in the cell is $1.59mM$, the $\\text{ADP}$ concentration is about $0.39mM$, and the $\\text{AMP}$ concentration is about $0.1mM$, with the total concentration of adenosine phosphates is being about $2.1mM$. The total steady state concentration of $\\text{A}$ is $0.0108mM$.\n",
    "   \n",
    "   **With this Information:**\n",
    "   \n",
    "   \n",
    "    \n",
    "   >**(i)** Solve for $k_{\\text{form AMP}}$ using the values above and simulate the response of this system perturbed by a 50% increase in the $\\text{ATP}$ load rate constant($v_{\\text{use}}$), using the rate constants and metabolite concentrations defined below Eqs (8.7) and (8.16) (**except for the metabolite concentrations defined above**) as initial values to find the steady state before perturbation (**See here for the related masspy chapter:** https://masspy.readthedocs.io/en/latest/notebooks/SB2_textbook/SB2-Chapter-8.html#Reaction-mechanism)\n",
    "   \n",
    "   >**(ii)** The net effect of adding this is to shift the \"cost structure\" of the network, as AMP now has been formed using a high-energy bond and thus has a value of one such bond to the system. How would you now define \"capacity\", \"occupancy\" and \"charge?\" **Type it in this notebook below (LaTeX also acceptable).**\n",
    "   \n",
    "\n"
   ]
  },
  {
   "cell_type": "code",
   "execution_count": 8,
   "metadata": {
    "scrolled": true
   },
   "outputs": [],
   "source": [
    "#Create your model\n",
    "Phosphate_Model = MassModel(\"Phosphate_Model\")\n",
    "\n",
    "# Define metabolites\n",
    "atp = MassMetabolite(\"atp\")\n",
    "adp = MassMetabolite(\"adp\")\n",
    "amp = MassMetabolite(\"amp\")\n",
    "a = MassMetabolite(\"a\")\n",
    "\n",
    "\n",
    "\n",
    "# Define reactions\n",
    "b1 = MassReaction(\"b1\", reversible=False)\n",
    "b1.add_metabolites({a:1})\n",
    "\n",
    "#form = MassReaction(\"v_form\",reversible=False)\n",
    "\n",
    "distr = MassReaction(\"distr\")\n",
    "distr.add_metabolites({adp: -2, amp: 1, atp:1})\n",
    "\n",
    "\n",
    "drain = MassReaction(\"drain\", reversible=False)\n",
    "drain.add_metabolites({amp:-1})\n",
    "\n",
    "ampform = MassReaction(\"ampform\",reversible=False)\n",
    "ampform.add_metabolites({amp:1,adp:1,atp:-1,a:-1})\n",
    "\n",
    "# Create utilization reaction\n",
    "v_use = MassReaction(\"use\", reversible=False)\n",
    "v_use.add_metabolites({atp: -1, adp: 1})\n",
    "v_use.kf = 6.25\n",
    "\n",
    "# Create formation reaction\n",
    "v_form = MassReaction(\"form\", reversible=False)\n",
    "v_form.add_metabolites({adp: -1, atp: 1})\n",
    "v_form.kf = 25\n",
    "# Add reactions to model\n",
    "\n",
    "Phosphate_Model.add_reactions([b1,drain,distr,ampform,v_use,v_form])\n",
    "# Define initial conditions and parameters\n",
    "atp.ic = 1.59\n",
    "adp.ic = 0.39\n",
    "amp.ic = 0.1\n",
    "a.ic = 0.0108\n",
    "\n",
    "b1.kf = 0.03\n",
    "ampform.kf = 0.03/(1.59*0.0108)\n",
    "distr.kf = 1000\n",
    "distr.Keq = 1\n",
    "drain.kf = 0.3\n",
    "\n",
    "\n",
    "# Set custom rate for source reactions \n",
    "Phosphate_Model.add_custom_rate(b1, custom_rate=b1.kf_str)\n",
    "#Phosphate_Model.add_custom_rate(ampform, custom_rate= )\n",
    "\n",
    "# Add units for future reference. \n",
    "Phosphate_Model.units = {'N': 'Millimoles', 'V': 'Liters', 'Time': 'Minute'}\n",
    "\n"
   ]
  },
  {
   "cell_type": "code",
   "execution_count": 9,
   "metadata": {},
   "outputs": [
    {
     "name": "stdout",
     "output_type": "stream",
     "text": [
      "╒══════════════════════════════════════════╕\n",
      "│ MODEL ID: Phosphate_Model                │\n",
      "│ SIMULATABLE: True                        │\n",
      "│ PARAMETERS NUMERICALY CONSISTENT: True   │\n",
      "╞══════════════════════════════════════════╡\n",
      "╘══════════════════════════════════════════╛\n"
     ]
    }
   ],
   "source": [
    "from mass import qcqa_model\n",
    "qcqa_model(Phosphate_Model, parameters = True, concentrations = True)"
   ]
  },
  {
   "cell_type": "code",
   "execution_count": 10,
   "metadata": {
    "scrolled": false
   },
   "outputs": [
    {
     "name": "stderr",
     "output_type": "stream",
     "text": [
      "\u001b[93mWARNING:\u001b[0m \u001b[93mNo compartments found in model. Therefore creating compartment 'compartment' for entire model.\u001b[0m\n"
     ]
    },
    {
     "name": "stdout",
     "output_type": "stream",
     "text": [
      "Successfully loaded MassModel 'Phosphate_Model' into RoadRunner.\n"
     ]
    },
    {
     "data": {
      "text/plain": [
       "<matplotlib.axes._subplots.AxesSubplot at 0x7f11599cc9d0>"
      ]
     },
     "execution_count": 10,
     "metadata": {},
     "output_type": "execute_result"
    },
    {
     "data": {
      "image/png": "[encoded data removed]",
      "text/plain": [
       "<Figure size 864x288 with 1 Axes>"
      ]
     },
     "metadata": {
      "needs_background": "light"
     },
     "output_type": "display_data"
    }
   ],
   "source": [
    "fig, axes = plt.subplots(nrows=1, ncols=1, figsize=(12, 4))\n",
    "ax6 = axes\n",
    "\n",
    "(t0, tf) = (0, 1e3)\n",
    "sim = Simulation(Phosphate_Model, verbose = True)\n",
    "sim.find_steady_state(models= Phosphate_Model, strategy=\"simulate\")\n",
    "ss_conc,ss_flux =  sim.simulate(\n",
    "    Phosphate_Model, time=(t0, tf))\n",
    "sp_conc, sp_flux = sim.simulate(Phosphate_Model, time=(t0,tf),perturbations ={\"kf_use\" : \"1.5 * kf_use\"})\n",
    "plot_time_profile(sp_conc,ax=ax6, plot_function=(\"semilogx\"),xlim=(1e-3,1e3),ylim=(1e-3,2),xlabel=\"Time [min]\", ylabel=\"Concentrations [mM]\",title=(\"Perturbation from Steady State\"),legend = [\"right\"])\n"
   ]
  },
  {
   "cell_type": "markdown",
   "metadata": {},
   "source": [
    "<font color='red'>Solution: </font> The above graph shows the steady state values of the metabolites decreasing due to the increased flux of v_use, however one sees the graph forming a new, lower steady state, with a higher value of A, yet lower values of ATP, AMP, and ADP."
   ]
  },
  {
   "cell_type": "markdown",
   "metadata": {},
   "source": [
    "dA/dt = 0 = -kampform * ATP * A + b1\n",
    "\n",
    "b1 = kampform* ATP * A\n",
    "\n",
    "0.03/(1.59 * 0.0108) = kampform\n",
    "\n",
    "= 1.747"
   ]
  },
  {
   "cell_type": "markdown",
   "metadata": {},
   "source": [
    "<font color='red'>Rubric: </font>  they should be given the correct A value. \n",
    "- +5 for the correct graph (it should show something in the ballpark of the above graph)\n",
    "- +5 for correct method of finding kf_ampform. "
   ]
  },
  {
   "cell_type": "markdown",
   "metadata": {},
   "source": [
    "(ii)"
   ]
  },
  {
   "cell_type": "markdown",
   "metadata": {},
   "source": [
    "$$\\frac{3ATP + 2ADP + AMP}{3(ATP + ADP + AMP +A)}$$"
   ]
  },
  {
   "cell_type": "markdown",
   "metadata": {},
   "source": [
    "Capacity is expressed as three times the sum of ATP,ADP,AMP, and A, as it reflects that A can be used potentially to hold energized phosphate groups. \n",
    "\n",
    "Occupancy is 3ATP + 2ADP + AMP as it reflects how many high energy bonds are currently in the system."
   ]
  },
  {
   "cell_type": "markdown",
   "metadata": {},
   "source": [
    "<font color='red'>Rubric: </font> \n",
    "- +5 for the correct occupancy\n",
    "- +5 for the correct capacity \n",
    "- +5 for the correct charge"
   ]
  }
 ],
 "metadata": {
  "kernelspec": {
   "display_name": "Python 3",
   "language": "python",
   "name": "python3"
  },
  "language_info": {
   "codemirror_mode": {
    "name": "ipython",
    "version": 3
   },
   "file_extension": ".py",
   "mimetype": "text/x-python",
   "name": "python",
   "nbconvert_exporter": "python",
   "pygments_lexer": "ipython3",
   "version": "3.7.3"
  }
 },
 "nbformat": 4,
 "nbformat_minor": 2
}
