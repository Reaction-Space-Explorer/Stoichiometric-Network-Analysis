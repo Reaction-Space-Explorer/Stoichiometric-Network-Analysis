{
 "cells": [
  {
   "cell_type": "markdown",
   "metadata": {},
   "source": [
    "# Homework 1\n",
    "\n",
    "### 100 points total"
   ]
  },
  {
   "cell_type": "markdown",
   "metadata": {},
   "source": [
    "## Conceptual questions\n",
    "Please type your answers below. "
   ]
  },
  {
   "cell_type": "markdown",
   "metadata": {},
   "source": [
    "#### (1) Describe what a node and an edge might represent for (a) a metabolic network, (b) a signaling network, and (c) a social network. (16 points)"
   ]
  },
  {
   "cell_type": "markdown",
   "metadata": {},
   "source": [
    "<font color='red'>Solution: </font> Nodes represent elements in a network, and edges represent connections between nodes.\n",
    "\n",
    "(a) Metabolic network: nodes are metabolites, edges are biochemical reactions.\n",
    "\n",
    "(b) Signaling network: nodes are proteins or small molecules (e.g., GTP), edges are protein-protein interactions or phosphorylation events (i.e., chemical reactions).\n",
    "\n",
    "(c) Social network: nodes are people, edges are relationships. \n",
    "\n",
    "<font color='red'>Rubric: </font> 1 point for overall explanation of nodes/edges; 2.5 points each for correct assignment of node/edge to a relevant entity from each subquestion\n"
   ]
  },
  {
   "cell_type": "markdown",
   "metadata": {},
   "source": [
    "#### (2) From an energetics perspective, why do chemical reactions occur at faster rates with increased temperature? (10 points)"
   ]
  },
  {
   "cell_type": "markdown",
   "metadata": {},
   "source": [
    "<font color='red'>Solution: </font> At increased temperature, there is more energy in a system. This energy is represented as kinetic, thermal, or chemical energy. As the amount of kinetic energy increases, the velocities of individual molecules necessarily increase, and therefore the rate of collision among molecules also increases. Collisions between molecules are required for chemical reactions to occur at all.\n",
    "\n",
    "<font color='red'>Rubric: </font> 6 points for increased T -> increased KE; 4 points for increased KE -> increased collisions"
   ]
  },
  {
   "cell_type": "markdown",
   "metadata": {},
   "source": [
    "#### (3) Deterministic models will yield the same simulation result every time they are run because they use fixed parameters. A stochastic model, however, will yield a different result each time it is run. How do we encode this randomness into a stochastic model such that we are representing biological variability? (10 points)"
   ]
  },
  {
   "cell_type": "markdown",
   "metadata": {},
   "source": [
    "<font color='red'>Solution: </font> To  ensure  a  different  result  for  each  simulation,  a  stochastic  model  does  not  use  a  fixed  parameter  set;  rather,  these  parameters  are  randomly  generated  from  a  distribution.   This  distribution  is  a probability  distribution  that  represents  information  known  about  the  physical  interactions  in  the  system (either experimentally measured or computationally predicted), thereby representing biological variability\n",
    "\n",
    "<font color='red'>Rubric: </font> 4 points for mentioning no fixed parameters; 4 points for parameters randomly sampled from distribution; 2 point for mentioning that distribution represents information known about the system"
   ]
  },
  {
   "cell_type": "markdown",
   "metadata": {},
   "source": [
    "## Python Primer\n",
    "Please solve the following tasks using Python code within the provided IPython cells below.\n",
    "\n",
    "All problems in this section are worth 8 points.\n",
    "\n",
    "**Rubric:** Minimal partial credit available. "
   ]
  },
  {
   "cell_type": "markdown",
   "metadata": {},
   "source": [
    "#### (4) Assign the integer 42 to a variable:"
   ]
  },
  {
   "cell_type": "code",
   "execution_count": 1,
   "metadata": {},
   "outputs": [
    {
     "data": {
      "text/plain": [
       "42"
      ]
     },
     "execution_count": 1,
     "metadata": {},
     "output_type": "execute_result"
    }
   ],
   "source": [
    "a = 42\n",
    "a"
   ]
  },
  {
   "cell_type": "markdown",
   "metadata": {},
   "source": [
    "#### (5) To the variable from part (4): subtract 30, divide by 3, raise to the second power, and multiply by 2, in that order. Use parentheses when necessary, and store the result in another variable:"
   ]
  },
  {
   "cell_type": "code",
   "execution_count": 2,
   "metadata": {},
   "outputs": [
    {
     "data": {
      "text/plain": [
       "32.0"
      ]
     },
     "execution_count": 2,
     "metadata": {},
     "output_type": "execute_result"
    }
   ],
   "source": [
    "b = (((a-30)/3)**2)*2\n",
    "b"
   ]
  },
  {
   "cell_type": "markdown",
   "metadata": {},
   "source": [
    "#### (6) Assign a list of the integers 1 through 6, in order, to a new variable:"
   ]
  },
  {
   "cell_type": "code",
   "execution_count": 3,
   "metadata": {},
   "outputs": [
    {
     "name": "stdout",
     "output_type": "stream",
     "text": [
      "[1, 2, 3, 4, 5, 6]\n",
      "[1, 2, 3, 4, 5, 6]\n"
     ]
    }
   ],
   "source": [
    "num_list = [1, 2, 3, 4, 5, 6]\n",
    "print(num_list)\n",
    "\n",
    "# --- OR, a bit more general ---\n",
    "num_list_alt = list(range(1, 7))\n",
    "print(num_list_alt)"
   ]
  },
  {
   "cell_type": "markdown",
   "metadata": {},
   "source": [
    "#### (7) Divide each element of the list variable from (6) by the result variable from (5) and store the resulting list in a new variable:"
   ]
  },
  {
   "cell_type": "code",
   "execution_count": 4,
   "metadata": {},
   "outputs": [
    {
     "data": {
      "text/plain": [
       "[0.03125, 0.0625, 0.09375, 0.125, 0.15625, 0.1875]"
      ]
     },
     "execution_count": 4,
     "metadata": {},
     "output_type": "execute_result"
    }
   ],
   "source": [
    "divide_list = [num/b for num in num_list]\n",
    "divide_list"
   ]
  },
  {
   "cell_type": "markdown",
   "metadata": {},
   "source": [
    "#### (8) Extract the third number from the result of (7). Please remember that Python uses 0-based indexing."
   ]
  },
  {
   "cell_type": "code",
   "execution_count": 5,
   "metadata": {},
   "outputs": [
    {
     "data": {
      "text/plain": [
       "0.09375"
      ]
     },
     "execution_count": 5,
     "metadata": {},
     "output_type": "execute_result"
    }
   ],
   "source": [
    "divide_list[2]"
   ]
  },
  {
   "cell_type": "markdown",
   "metadata": {},
   "source": [
    "#### (9) Extract a sublist (ranging from the second to the fifth elements) from the result of (7). Please remember that Python uses 0-based indexing."
   ]
  },
  {
   "cell_type": "code",
   "execution_count": 6,
   "metadata": {},
   "outputs": [
    {
     "data": {
      "text/plain": [
       "[0.0625, 0.09375, 0.125, 0.15625]"
      ]
     },
     "execution_count": 6,
     "metadata": {},
     "output_type": "execute_result"
    }
   ],
   "source": [
    "divide_list[1:5]"
   ]
  },
  {
   "cell_type": "markdown",
   "metadata": {},
   "source": [
    "#### (10) Subtract, element-wise, the list variable in (7) from the list variable in (6), storing the resulting list in a new variable:"
   ]
  },
  {
   "cell_type": "code",
   "execution_count": 7,
   "metadata": {},
   "outputs": [
    {
     "data": {
      "text/plain": [
       "[0.96875, 1.9375, 2.90625, 3.875, 4.84375, 5.8125]"
      ]
     },
     "execution_count": 7,
     "metadata": {},
     "output_type": "execute_result"
    }
   ],
   "source": [
    "subtract_list = []\n",
    "for num, divide_num in zip(num_list, divide_list):\n",
    "    difference = num - divide_num\n",
    "    subtract_list.append(difference)\n",
    "subtract_list"
   ]
  },
  {
   "cell_type": "markdown",
   "metadata": {},
   "source": [
    "#### (11) Decrypt the following piece of text (hint: {..., \"m\":\"o\" ,\"n\": \"p\", \"o\":\"q\", ...})\n",
    "\n",
    "ucjamkc rm rfc amspqc. uc fmnc wms fytc y epcyr osyprcp ylb jcypl y jmr! njcyqc bml'r fcqgryrc rm yqi sq ylw oscqrgmlq yjmle rfc uyw."
   ]
  },
  {
   "cell_type": "code",
   "execution_count": 8,
   "metadata": {},
   "outputs": [
    {
     "data": {
      "text/plain": [
       "\"welcome to the course. we hope you have a great quarter and learn a lot! please don't hesitate to ask us any questions along the way.\""
      ]
     },
     "execution_count": 8,
     "metadata": {},
     "output_type": "execute_result"
    }
   ],
   "source": [
    "from_chars = 'abcdefghijklmnopqrstuvwxyz'\n",
    "to_chars = 'cdefghijklmnopqrstuvwxyzab'\n",
    "decrypt_dict = {from_char: to_char for from_char, to_char in zip(from_chars, to_chars)}\n",
    "\n",
    "# be careful of the punctuation!\n",
    "text_to_decrypt = \"ucjamkc rm rfc amspqc. uc fmnc wms fytc y epcyr osyprcp ylb jcypl y jmr! njcyqc bml'r fcqgryrc rm yqi sq ylw oscqrgmlq yjmle rfc uyw.\"\n",
    "decrypted_message = ''.join([decrypt_dict.get(c, c) for c in text_to_decrypt])\n",
    "decrypted_message"
   ]
  }
 ],
 "metadata": {
  "kernelspec": {
   "display_name": "Python 3",
   "language": "python",
   "name": "python3"
  },
  "language_info": {
   "codemirror_mode": {
    "name": "ipython",
    "version": 3
   },
   "file_extension": ".py",
   "mimetype": "text/x-python",
   "name": "python",
   "nbconvert_exporter": "python",
   "pygments_lexer": "ipython3",
   "version": "3.7.3"
  }
 },
 "nbformat": 4,
 "nbformat_minor": 2
}
